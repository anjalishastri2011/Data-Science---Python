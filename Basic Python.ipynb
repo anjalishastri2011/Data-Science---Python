{
 "cells": [
  {
   "cell_type": "markdown",
   "metadata": {},
   "source": [
    "# Introduction to basic Python\n",
    "\n",
    "##### Working with Lists, Dictionaries and Sets\n"
   ]
  },
  {
   "cell_type": "code",
   "execution_count": 1,
   "metadata": {},
   "outputs": [
    {
     "name": "stdout",
     "output_type": "stream",
     "text": [
      "1\n",
      "1\n",
      "2\n",
      "3\n",
      "5\n",
      "8\n",
      "13\n",
      "21\n",
      "34\n",
      "55\n",
      "89\n",
      "144\n",
      "233\n",
      "377\n",
      "610\n"
     ]
    }
   ],
   "source": [
    "# Print fibonacci series\n",
    "a = 0\n",
    "b = 1\n",
    "for i in range(15):\n",
    "    print(b)\n",
    "    c = a+b\n",
    "    a = b\n",
    "    b = c"
   ]
  },
  {
   "cell_type": "code",
   "execution_count": 87,
   "metadata": {},
   "outputs": [
    {
     "data": {
      "text/plain": [
       "[24, 35, 9, 56, 12]"
      ]
     },
     "execution_count": 87,
     "metadata": {},
     "output_type": "execute_result"
    }
   ],
   "source": [
    "# Swap first and last\n",
    "l = [12, 35, 9, 56, 24]\n",
    "a = len(l)\n",
    "b = l[0]\n",
    "l[0] = l[a-1]\n",
    "l[a-1] = b\n",
    "l"
   ]
  },
  {
   "cell_type": "code",
   "execution_count": 222,
   "metadata": {},
   "outputs": [
    {
     "name": "stdout",
     "output_type": "stream",
     "text": [
      "dict_items([(3, [1, 1]), (6, [1, 1]), (9, [1, 1]), (12, [1]), (15, [1]), (18, [1]), (21, [1])])\n"
     ]
    }
   ],
   "source": [
    "from collections import defaultdict\n",
    "lists = [3, 6, 9, 12, 15, 18, 21, 3, 6, 9]\n",
    "d = defaultdict(list)\n",
    "for i, j in enumerate(lists):\n",
    "    d[j].append(1)\n",
    "print(d.items())"
   ]
  },
  {
   "cell_type": "code",
   "execution_count": 86,
   "metadata": {},
   "outputs": [
    {
     "name": "stdout",
     "output_type": "stream",
     "text": [
      "[3, 9, 15, 21] [8, 16, 24, 58]\n",
      "[3, 9, 15, 21, 8, 16, 24, 58]\n"
     ]
    }
   ],
   "source": [
    "# combine two lists 1 - odd, 2 - even \n",
    "\n",
    "listOne = [3, 6, 9, 12, 15, 18, 21]\n",
    "listTwo = [4, 8, 12, 16, 20, 24, 28, 58]\n",
    "\n",
    "l1, l2 = [], []\n",
    "for i in range(0,len(listOne), 2):\n",
    "    l1.append(listOne[i])\n",
    "\n",
    "for i in range(1, len(listTwo), 2):\n",
    "    l2.append(listTwo[i])\n",
    "print(l1, l2)\n",
    "print(l1 +l2)\n",
    "\n",
    "#addition\n",
    "#list(map(sum, zip(l1, l2)))"
   ]
  },
  {
   "cell_type": "code",
   "execution_count": 223,
   "metadata": {},
   "outputs": [
    {
     "name": "stdout",
     "output_type": "stream",
     "text": [
      "{11: 2, 45: 3, 8: 1, 23: 2, 89: 1}\n"
     ]
    }
   ],
   "source": [
    "lst = [11, 45, 8, 11, 23, 45, 23, 45, 89]\n",
    "dicti = dict()\n",
    "for i in range(len(lst)):\n",
    "    if(lst[i] in dicti):\n",
    "        dicti[lst[i]] += 1\n",
    "    else:\n",
    "        dicti[lst[i]] = 1\n",
    "\n",
    "print(dicti)"
   ]
  },
  {
   "cell_type": "code",
   "execution_count": 115,
   "metadata": {},
   "outputs": [
    {
     "data": {
      "text/plain": [
       "{(2, 4), (3, 9), (4, 16), (5, 25), (6, 36), (7, 49), (8, 64)}"
      ]
     },
     "execution_count": 115,
     "metadata": {},
     "output_type": "execute_result"
    }
   ],
   "source": [
    "First = [2, 3, 4, 5, 6, 7, 8]\n",
    "Second = [4, 9, 16, 25, 36, 49, 64]\n",
    "set(zip(First,Second))"
   ]
  },
  {
   "cell_type": "code",
   "execution_count": 119,
   "metadata": {},
   "outputs": [
    {
     "name": "stdout",
     "output_type": "stream",
     "text": [
      "{57, 83, 29}\n",
      "{65, 42, 78, 23}\n"
     ]
    }
   ],
   "source": [
    "First= {65, 42, 78, 83, 23, 57, 29}\n",
    "Second =  {67, 73, 43, 48, 83, 57, 29}\n",
    "\n",
    "intersection = First & Second\n",
    "print(intersection)\n",
    "\n",
    "print(First - intersection)"
   ]
  },
  {
   "cell_type": "code",
   "execution_count": 132,
   "metadata": {},
   "outputs": [
    {
     "name": "stdout",
     "output_type": "stream",
     "text": [
      "[47, 69, 76, 97]\n"
     ]
    }
   ],
   "source": [
    "rollNumber = [47, 64, 69, 37, 76, 83, 95, 97]\n",
    "sampleDict ={'Jhon':47, 'Emma':69, 'Kelly':76, 'Jason':97}\n",
    "lst = []\n",
    "\n",
    "for item in sampleDict.keys():\n",
    "    if sampleDict[item] in rollNumber:\n",
    "        lst.append(sampleDict[item])\n",
    "print(lst)\n"
   ]
  },
  {
   "cell_type": "code",
   "execution_count": 144,
   "metadata": {},
   "outputs": [
    {
     "data": {
      "text/plain": [
       "[44, 47, 52, 53, 54]"
      ]
     },
     "execution_count": 144,
     "metadata": {},
     "output_type": "execute_result"
    }
   ],
   "source": [
    "speed ={'jan':47, 'feb':52, 'march':47, 'April':44, 'May':52, 'June':53, 'july':54, 'Aug':44, 'Sept':54}\n",
    "lst = list(speed.values())\n",
    "list(set(lst))\n",
    "sorted(list(set(lst)))"
   ]
  },
  {
   "cell_type": "code",
   "execution_count": 179,
   "metadata": {},
   "outputs": [
    {
     "name": "stdout",
     "output_type": "stream",
     "text": [
      "49\n"
     ]
    }
   ],
   "source": [
    "        lst = []\n",
    "        lst1 = []\n",
    "        \n",
    "        for i in range(round(len(height)/2-.5)+1):\n",
    "            for j in range(len(height)-1, round(len(height)/2+.5)-1, -1):\n",
    "                lst.append(min(height[i], height[j])*(j-i))\n",
    "            lst1.append(max(lst))\n",
    "        print(max(lst1))"
   ]
  },
  {
   "cell_type": "code",
   "execution_count": 198,
   "metadata": {},
   "outputs": [
    {
     "name": "stdout",
     "output_type": "stream",
     "text": [
      "[[-1, 0, 1], [-1, 2, -1]]\n"
     ]
    }
   ],
   "source": [
    "        nums = [-1, 0, 1, 2, -1, -4]\n",
    "        lst = []\n",
    "        length = len(nums)\n",
    "        for i in range(length):\n",
    "            for j in range(i+1, length-1, 1):\n",
    "                if((nums[i]+nums[j]+nums[j+1]) == 0):\n",
    "                    lst.append([nums[i],nums[j],nums[j+1]])\n",
    "        print(lst)"
   ]
  },
  {
   "cell_type": "code",
   "execution_count": 292,
   "metadata": {},
   "outputs": [
    {
     "data": {
      "text/plain": [
       "['1', '3', '5']"
      ]
     },
     "execution_count": 292,
     "metadata": {},
     "output_type": "execute_result"
    }
   ],
   "source": [
    "a = ('1 3 5')\n",
    "b = a.split()\n",
    "b"
   ]
  },
  {
   "cell_type": "code",
   "execution_count": 186,
   "metadata": {},
   "outputs": [
    {
     "data": {
      "text/plain": [
       "'491625364964'"
      ]
     },
     "execution_count": 186,
     "metadata": {},
     "output_type": "execute_result"
    }
   ],
   "source": [
    "a = [4, 9, 16, 25, 36, 49, 64]\n",
    "s = [str(i) for i in a]\n",
    "x = ''.join(s)\n",
    "x"
   ]
  },
  {
   "cell_type": "code",
   "execution_count": 249,
   "metadata": {},
   "outputs": [
    {
     "name": "stdout",
     "output_type": "stream",
     "text": [
      "{'4': 3, '9': 2, '1': 1, '6': 3, '2': 1, '5': 1, '3': 1}\n"
     ]
    }
   ],
   "source": [
    "# Given a list of numbers, count the occurrences of each digit in the numbers present in the list.\n",
    "a = [4, 9, 16, 25, 36, 49, 64]\n",
    "s = [str(i) for i in a]\n",
    "x = ''.join(s)\n",
    "abc = dict()\n",
    "for i in range(len(x)):\n",
    "    if x[i] in abc:\n",
    "        abc[x[i]] += 1\n",
    "    else:\n",
    "        abc[x[i]] = 1\n",
    "print(abc)\n"
   ]
  },
  {
   "cell_type": "code",
   "execution_count": 81,
   "metadata": {},
   "outputs": [
    {
     "data": {
      "text/plain": [
       "[10, 17, 26, 37, 50]"
      ]
     },
     "execution_count": 81,
     "metadata": {},
     "output_type": "execute_result"
    }
   ],
   "source": [
    "# Given a list of numbers, generate a new list with 3 period moving average. \n",
    "a = [4, 9, 16, 25, 36, 49, 64]\n",
    "lst = []\n",
    "for i in range(len(a)-2):\n",
    "    lst.append(round((a[i]+a[i+1]+a[i+2])/3+0.5))\n",
    "lst"
   ]
  },
  {
   "cell_type": "code",
   "execution_count": 146,
   "metadata": {},
   "outputs": [
    {
     "name": "stdout",
     "output_type": "stream",
     "text": [
      "25\n",
      "36\n"
     ]
    }
   ],
   "source": [
    "# Given an array of numbers and a number 'k', find the values closest to k from the given array.\n",
    "a = [4, 9, 16, 25, 36, 49, 64]\n",
    "a.sort()\n",
    "k = 22\n",
    "diff = []\n",
    "\n",
    "for i in range(len(a)):\n",
    "    if(a[i]-k<= 0):\n",
    "        diff.append(max(a))\n",
    "    elif(a[i]-k)>0:\n",
    "        diff.append(a[i]-k)\n",
    "\n",
    "diff1 = sorted(diff)\n",
    "print(a[diff.index(min(diff1))])\n",
    "diff1.pop(diff1.index(min(diff1)))\n",
    "print(a[diff.index(min(diff1))])\n"
   ]
  },
  {
   "cell_type": "code",
   "execution_count": 279,
   "metadata": {},
   "outputs": [
    {
     "data": {
      "text/plain": [
       "['a', 'i', 'y', 'r', 'w', 'a', 'a', 'a', 'h', 's']"
      ]
     },
     "execution_count": 279,
     "metadata": {},
     "output_type": "execute_result"
    }
   ],
   "source": [
    "# Given a string, reverse it with vowels remaining in the same place.\n",
    "a = 'aishwaryaa'\n",
    "lst = []\n",
    "for i in range(len(a)):\n",
    "    lst.append(a[i])\n",
    "a = lst\n",
    "\n",
    "vowels = ['a', 'e', 'i', 'o', 'u']\n",
    "con = []\n",
    "vov = []\n",
    "for i in range(len(lst)):\n",
    "    if lst[i] not in vowels:\n",
    "        con.append(lst[i])\n",
    "    else:\n",
    "        vov.append(lst[i])\n",
    "con.reverse()\n",
    "\n",
    "for i in range(len(vov)):\n",
    "    if vov[i] not in con:\n",
    "        con.insert(a.index(vov[i]), vov[i])        \n",
    "    else:\n",
    "        con.insert(a.index(vov[i], con.index(con[i])+1), vov[i])\n",
    "con"
   ]
  },
  {
   "cell_type": "code",
   "execution_count": 46,
   "metadata": {},
   "outputs": [
    {
     "name": "stdout",
     "output_type": "stream",
     "text": [
      "['a', 'b', 'c', 'd', 'i', 'o', 'e', 'f', 'g', 'u', 'h']\n",
      "['a', 'h', 'c', 'd', 'i', 'o', 'e', 'f', 'g', 'u', 'b']\n",
      "['a', 'h', 'g', 'd', 'i', 'o', 'e', 'f', 'c', 'u', 'b']\n",
      "['a', 'h', 'g', 'f', 'i', 'o', 'e', 'd', 'c', 'u', 'b']\n"
     ]
    }
   ],
   "source": [
    "# Given a string, reverse it with vowels remaining in the same place.\n",
    "a = 'abcdioefguh'\n",
    "lst = []\n",
    "for i in range(len(a)):\n",
    "    lst.append(a[i])\n",
    "\n",
    "vowels = ['a', 'e', 'i', 'o', 'u']\n",
    "con = []\n",
    "for i in range(len(lst)):\n",
    "    if lst[i] not in vowels:\n",
    "        con.append(i)\n",
    "con\n",
    "# reverse\n",
    "print(lst)\n",
    "long = len(con)\n",
    "for i in con[0:round(len(con)/2)]:\n",
    "    x = lst[i]\n",
    "    lst[i] = lst[con[long-1]]\n",
    "    lst[con[long-1]] = x\n",
    "    long -= 1\n",
    "    print(lst)\n",
    "\n"
   ]
  },
  {
   "cell_type": "code",
   "execution_count": 287,
   "metadata": {},
   "outputs": [
    {
     "name": "stdout",
     "output_type": "stream",
     "text": [
      "[11, 45, 13]\n",
      "[23, 14, 25]\n",
      "[78, 45, 80]\n"
     ]
    }
   ],
   "source": [
    "# Split an input list into lists of 3 elements\n",
    "\n",
    "sampleList = [11, 45, 8, 23, 14, 12, 78, 45, 89]\n",
    "\n",
    "length = len(sampleList)\n",
    "x = 0\n",
    "c1 = []\n",
    "        \n",
    "for i in range(0, length-1, 3):\n",
    "    c1.append([sampleList[i], sampleList[i+1], sampleList[i]+2])\n",
    "\n",
    "for i in range(len(c1)):\n",
    "    print(c1[i])"
   ]
  },
  {
   "cell_type": "code",
   "execution_count": 49,
   "metadata": {},
   "outputs": [
    {
     "data": {
      "text/plain": [
       "'dlrow olleh'"
      ]
     },
     "execution_count": 49,
     "metadata": {},
     "output_type": "execute_result"
    }
   ],
   "source": [
    "''.join(reversed(\"hello world\"))"
   ]
  },
  {
   "cell_type": "code",
   "execution_count": 52,
   "metadata": {},
   "outputs": [
    {
     "data": {
      "text/plain": [
       "'bcdioefgu'"
      ]
     },
     "execution_count": 52,
     "metadata": {},
     "output_type": "execute_result"
    }
   ],
   "source": [
    "a = 'abcdioefguh'\n",
    "a[1:-1]"
   ]
  },
  {
   "cell_type": "code",
   "execution_count": 63,
   "metadata": {},
   "outputs": [
    {
     "name": "stdout",
     "output_type": "stream",
     "text": [
      "Unique items :  [65, 99, 41, 45, 87, 94]\n",
      "Tuple :  (65, 99, 41, 45, 87, 94)\n",
      "99\n",
      "41\n"
     ]
    }
   ],
   "source": [
    "# Remove duplicate from a list and create a tuple and find the minimum and maximum number\n",
    "sampleList = [87, 45, 41, 65, 94, 41, 99, 94]\n",
    "sample = list(set(sampleList))\n",
    "print(\"Unique items : \", sample)\n",
    "sample = tuple(sample)\n",
    "print(\"Tuple : \", sample)\n",
    "print(max(sample))\n",
    "print(min(sample))"
   ]
  },
  {
   "cell_type": "code",
   "execution_count": 86,
   "metadata": {},
   "outputs": [
    {
     "name": "stdout",
     "output_type": "stream",
     "text": [
      "Son\n"
     ]
    }
   ],
   "source": [
    "#  Given a string of odd length greater 7, return a string made of the middle three chars of a given String\n",
    "str1 = \"JaSonAy\"\n",
    "mid = int(len(str1)/2)\n",
    "str2 = str1[mid-1:mid+2]\n",
    "print(str2)"
   ]
  },
  {
   "cell_type": "code",
   "execution_count": 89,
   "metadata": {},
   "outputs": [
    {
     "name": "stdout",
     "output_type": "stream",
     "text": [
      "AulKellylt\n"
     ]
    }
   ],
   "source": [
    "# Given 2 strings, s1 and s2, create a new string by appending s2 in the middle of s1\n",
    "\n",
    "s1 = \"Ault\"\n",
    "s2 = \"Kelly\"\n",
    "mid = int(len(s1)/2)\n",
    "print(s1[0:mid+1] + s2 + s1[mid: ])"
   ]
  },
  {
   "cell_type": "code",
   "execution_count": 91,
   "metadata": {},
   "outputs": [
    {
     "name": "stdout",
     "output_type": "stream",
     "text": [
      "AJrpan\n"
     ]
    }
   ],
   "source": [
    "# Given 2 strings, s1, and s2 return a new string made of the first, middle and last char each input string\n",
    "\n",
    "s1 = \"America\"\n",
    "s2 = \"Japan\"\n",
    "\n",
    "mid1 = int(len(s1)/2)\n",
    "mid2 = int(len(s2)/2)\n",
    "\n",
    "print(s1[0]+s2[0]+s1[mid1]+s2[mid2]+s1[-1]+s2[-1])"
   ]
  },
  {
   "cell_type": "code",
   "execution_count": 95,
   "metadata": {},
   "outputs": [
    {
     "name": "stdout",
     "output_type": "stream",
     "text": [
      "PyNaTive\n"
     ]
    }
   ],
   "source": [
    "#  Arrange string characters such that lowercase letters should come first\n",
    "\n",
    "str1 = 'PyNaTive'\n",
    "up = []\n",
    "lo = []\n",
    "for i in str1:\n",
    "    if str1.islower():\n",
    "        lo.append(i)\n",
    "    else:\n",
    "        up.append(i)\n",
    "print(''.join(lo+up))"
   ]
  },
  {
   "cell_type": "code",
   "execution_count": 98,
   "metadata": {},
   "outputs": [
    {
     "name": "stdout",
     "output_type": "stream",
     "text": [
      "Char  8\n",
      "digits  3\n",
      "symbol  4\n"
     ]
    }
   ],
   "source": [
    "# Count all lower case, upper case, digits, and special symbols from a given string\n",
    "\n",
    "str1 = \"P@#yn26at^&i5ve\"\n",
    "\n",
    "char = 0\n",
    "dig = 0\n",
    "symbol = 0\n",
    "\n",
    "for i in str1:\n",
    "    if i.isalpha():\n",
    "        char += 1\n",
    "    elif i.isnumeric():\n",
    "        dig += 1\n",
    "    else:\n",
    "        symbol += 1\n",
    "    \n",
    "print(\"Char :\" ,char)\n",
    "print(\"digits :\" ,dig)\n",
    "print(\"symbol :\" ,symbol)"
   ]
  },
  {
   "cell_type": "code",
   "execution_count": 112,
   "metadata": {},
   "outputs": [
    {
     "name": "stdout",
     "output_type": "stream",
     "text": [
      "AXbycz\n"
     ]
    }
   ],
   "source": [
    "#  Given two strings, s1 and s2, create a mixed String\n",
    "\n",
    "s1 = \"Abc\"\n",
    "s2 = \"Xyz\"\n",
    "l1 = []\n",
    "l2 = []\n",
    "\n",
    "for i in s1:\n",
    "    l1.append(i)\n",
    "    \n",
    "for i in s2:\n",
    "    l2.append(i)\n",
    "    \n",
    "print(''.join(list(i + j for i, j in zip(l1, l2))))"
   ]
  },
  {
   "cell_type": "code",
   "execution_count": 117,
   "metadata": {},
   "outputs": [
    {
     "name": "stdout",
     "output_type": "stream",
     "text": [
      "[1, 4, 9, 16, 25, 36, 49]\n"
     ]
    }
   ],
   "source": [
    "#  Given a Python list. Turn every item of a list into its square\n",
    "\n",
    "aList = [1, 2, 3, 4, 5, 6, 7]\n",
    "sqList = []\n",
    "\n",
    "for num in aList:\n",
    "    sqList.append(num**2)\n",
    "print(sqList)"
   ]
  },
  {
   "cell_type": "code",
   "execution_count": 119,
   "metadata": {},
   "outputs": [
    {
     "name": "stdout",
     "output_type": "stream",
     "text": [
      "[['Hello Dear'], ['Hello Sir'], ['take Dear'], ['take Sir']]\n"
     ]
    }
   ],
   "source": [
    "# Concatenate two lists in the following order\n",
    "\n",
    "\n",
    "list1 = [\"Hello \", \"take \"]\n",
    "list2 = [\"Dear\", \"Sir\"]\n",
    "lst = []\n",
    "for i in list1:\n",
    "    for j in list2:\n",
    "        lst.append([i+j])\n",
    "        \n",
    "# print([i + j for i in list1 for j in list2])\n",
    "print(lst)"
   ]
  },
  {
   "cell_type": "code",
   "execution_count": 133,
   "metadata": {},
   "outputs": [
    {
     "data": {
      "text/plain": [
       "[10, 20, [300, 400, [5000, 6000, 7000], 500], 30, 40]"
      ]
     },
     "execution_count": 133,
     "metadata": {},
     "output_type": "execute_result"
    }
   ],
   "source": [
    "# Add item 7000 after 6000 in the following Python List\n",
    "\n",
    "list1 = [10, 20, [300, 400, [5000, 6000], 500], 30, 40]\n",
    "\n",
    "list1[2][2].append(7000)\n",
    "list1"
   ]
  },
  {
   "cell_type": "code",
   "execution_count": 137,
   "metadata": {},
   "outputs": [
    {
     "data": {
      "text/plain": [
       "['a', 'b', ['c', ['d', 'e', ['f', 'g', 'h', 'i', 'j'], 'k'], 'l'], 'm', 'n']"
      ]
     },
     "execution_count": 137,
     "metadata": {},
     "output_type": "execute_result"
    }
   ],
   "source": [
    "# Given a nested list extend it with adding sub list [\"h\", \"i\", \"j\"] in a such a way that it will \n",
    "# look like the following list\n",
    "\n",
    "list1 = [\"a\", \"b\", [\"c\", [\"d\", \"e\", [\"f\", \"g\"], \"k\"], \"l\"], \"m\", \"n\"]\n",
    "list1[2][1][2].extend([\"h\", \"i\", \"j\"])\n",
    "\n",
    "list1"
   ]
  },
  {
   "cell_type": "code",
   "execution_count": 141,
   "metadata": {},
   "outputs": [
    {
     "name": "stdout",
     "output_type": "stream",
     "text": [
      "[5, 10, 15, 200, 25, 50, 20]\n"
     ]
    }
   ],
   "source": [
    "# Given a Python list, find value 20 in the list, and if it is present, replace it with 200. \n",
    "\n",
    "list1 = [5, 10, 15, 20, 25, 50, 20]\n",
    "\n",
    "list1[list1.index(20)] = 200\n",
    "print(list1)"
   ]
  },
  {
   "cell_type": "code",
   "execution_count": 142,
   "metadata": {},
   "outputs": [
    {
     "name": "stdout",
     "output_type": "stream",
     "text": [
      "[5, 15, 25, 50]\n"
     ]
    }
   ],
   "source": [
    "#  Given a Python list, remove all occurrence of 20 from the list\n",
    "\n",
    "list1 = [5, 20, 15, 20, 25, 50, 20]\n",
    "\n",
    "for i in list1:\n",
    "    if i == 20:\n",
    "        list1.remove(i)\n",
    "print(list1)"
   ]
  },
  {
   "cell_type": "code",
   "execution_count": 146,
   "metadata": {},
   "outputs": [
    {
     "name": "stdout",
     "output_type": "stream",
     "text": [
      "{'Ten': 10, 'Twenty': 20, 'Thirty': 30}\n"
     ]
    }
   ],
   "source": [
    "# Below are the two lists convert it into the dictionary\n",
    "\n",
    "keys = ['Ten', 'Twenty', 'Thirty']\n",
    "values = [10, 20, 30]\n",
    "\n",
    "print(dict(zip(keys, values)))"
   ]
  },
  {
   "cell_type": "code",
   "execution_count": 153,
   "metadata": {},
   "outputs": [
    {
     "name": "stdout",
     "output_type": "stream",
     "text": [
      "{'Ten': 10, 'Twenty': 20, 'Thirty': 30, 'Fourty': 40, 'Fifty': 50}\n"
     ]
    }
   ],
   "source": [
    "# Merge following two Python dictionaries into one\n",
    "\n",
    "dict1 = {'Ten': 10, 'Twenty': 20, 'Thirty': 30}\n",
    "dict2 = {'Thirty': 30, 'Fourty': 40, 'Fifty': 50}\n",
    "\n",
    "dict1.update(dict2)\n",
    "print(dict1)"
   ]
  },
  {
   "cell_type": "code",
   "execution_count": 167,
   "metadata": {},
   "outputs": [
    {
     "data": {
      "text/plain": [
       "80"
      ]
     },
     "execution_count": 167,
     "metadata": {},
     "output_type": "execute_result"
    }
   ],
   "source": [
    "# Access the value of key ‘history’\n",
    "\n",
    "sampleDict = { \n",
    "   \"class\":{ \n",
    "      \"student\":{ \n",
    "         \"name\":\"Mike\",\n",
    "         \"marks\":{ \n",
    "            \"physics\":70,\n",
    "            \"history\":80\n",
    "         }\n",
    "      }\n",
    "   }\n",
    "}\n",
    "\n",
    "sampleDict['class']['student']['marks']['history']"
   ]
  },
  {
   "cell_type": "code",
   "execution_count": 168,
   "metadata": {},
   "outputs": [
    {
     "name": "stdout",
     "output_type": "stream",
     "text": [
      "{'name': 'Kelly', 'age': 25, 'salary': 8000, 'Location': 'New york'}\n"
     ]
    }
   ],
   "source": [
    "# Rename key city to location in the following dictionary\n",
    "\n",
    "sampleDict = {\n",
    "  \"name\": \"Kelly\",\n",
    "  \"age\":25,\n",
    "  \"salary\": 8000,\n",
    "  \"city\": \"New york\"\n",
    "}\n",
    "\n",
    "sampleDict[\"Location\"] = sampleDict.pop('city')\n",
    "print(sampleDict)"
   ]
  },
  {
   "cell_type": "code",
   "execution_count": 172,
   "metadata": {},
   "outputs": [
    {
     "data": {
      "text/plain": [
       "'Math'"
      ]
     },
     "execution_count": 172,
     "metadata": {},
     "output_type": "execute_result"
    }
   ],
   "source": [
    "# Get the key corresponding to the minimum value from the following dictionary\n",
    "\n",
    "sampleDict = {\n",
    "  'Physics': 82,\n",
    "  'Math': 65,\n",
    "  'history': 75\n",
    "}\n",
    "min(sampleDict.keys())"
   ]
  },
  {
   "cell_type": "code",
   "execution_count": 193,
   "metadata": {},
   "outputs": [
    {
     "data": {
      "text/plain": [
       "['Mike', 'Emma', 'Kelly', 'Brad']"
      ]
     },
     "execution_count": 193,
     "metadata": {},
     "output_type": "execute_result"
    }
   ],
   "source": [
    "# Remove empty strings from the list of strings\n",
    "\n",
    "list1 = [\"Mike\", \"\", \"Emma\", \"Kelly\", \"\", \"Brad\"]\n",
    "list2 = []\n",
    "for i in list1:\n",
    "    if i != \"\":\n",
    "        list2.append(i)\n",
    "list2\n",
    "\n",
    "# print(list(filter(None, list1)))"
   ]
  },
  {
   "cell_type": "code",
   "execution_count": 217,
   "metadata": {},
   "outputs": [
    {
     "name": "stdout",
     "output_type": "stream",
     "text": [
      "10 400\n",
      "20 300\n",
      "30 200\n",
      "40 100\n"
     ]
    }
   ],
   "source": [
    "# Given a two Python list. Iterate both lists simultaneously such that list1 \n",
    "# should display item in original order and list2 in reverse order\n",
    "\n",
    "list1 = [10, 20, 30, 40]\n",
    "list2 = [100, 200, 300, 400]\n",
    "list2.reverse()\n",
    "\n",
    "\n",
    "#print([list(zip(i,j)) for i in list1 for j in list2])\n",
    "#print( for i,j in zip(list1, list2))\n",
    "\n",
    "for i, j in zip(list1, list2):\n",
    "    print(i,j)"
   ]
  }
 ],
 "metadata": {
  "kernelspec": {
   "display_name": "Python 3",
   "language": "python",
   "name": "python3"
  },
  "language_info": {
   "codemirror_mode": {
    "name": "ipython",
    "version": 3
   },
   "file_extension": ".py",
   "mimetype": "text/x-python",
   "name": "python",
   "nbconvert_exporter": "python",
   "pygments_lexer": "ipython3",
   "version": "3.7.3"
  }
 },
 "nbformat": 4,
 "nbformat_minor": 2
}
